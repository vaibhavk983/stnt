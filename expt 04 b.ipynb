{
 "cells": [
  {
   "cell_type": "markdown",
   "id": "157dfbf5-5334-4fb7-a254-28b2e15111e5",
   "metadata": {},
   "source": [
    "### NAME : Ravikumar \n",
    "### USN : 2VX23UE038\n",
    "### Expt.no. 04(b) :Travelling_salesperson problem "
   ]
  },
  {
   "cell_type": "code",
   "execution_count": 10,
   "id": "037866b7-1657-4b6d-aade-f92efadb7c75",
   "metadata": {},
   "outputs": [
    {
     "name": "stdout",
     "output_type": "stream",
     "text": [
      "Minimum Tour Cost of TSp: 35\n"
     ]
    }
   ],
   "source": [
    "from itertools import permutations\n",
    "\n",
    "n = 4 \n",
    "\n",
    "graph = [[0, 10, 15, 20],\n",
    "         [5, 0, 9, 10],\n",
    "         [6, 13, 0, 12],\n",
    "         [8, 8, 9, 0]]\n",
    "\n",
    "start_city = 0\n",
    "\n",
    "def TSP(graph, start_city):\n",
    "    dist = []\n",
    "    for cur_city in range(n):\n",
    "        if cur_city != start_city:\n",
    "            dist.append(cur_city)\n",
    "\n",
    "    min_cost = float('inf')\n",
    "\n",
    "    next_Perm = permutations(dist)\n",
    "\n",
    "    for i in next_Perm:\n",
    "        cur_cost = 0\n",
    "        k = start_city\n",
    "\n",
    "        for j in i:\n",
    "            cur_cost = cur_cost + graph[k][j]\n",
    "            k = j\n",
    "\n",
    "        cur_cost = cur_cost + graph[k][start_city]\n",
    "\n",
    "        min_cost = min(min_cost, cur_cost)\n",
    "\n",
    "    return min_cost\n",
    "\n",
    "min_TourCost = TSP(graph, start_city)\n",
    "\n",
    "print(\"Minimum Tour Cost of TSp:\",min_TourCost)"
   ]
  },
  {
   "cell_type": "code",
   "execution_count": 13,
   "id": "cbd18cc2-7c86-483b-b080-fb2780204f53",
   "metadata": {
    "scrolled": true
   },
   "outputs": [
    {
     "name": "stdin",
     "output_type": "stream",
     "text": [
      "Enter number of cities: 4\n"
     ]
    },
    {
     "name": "stdout",
     "output_type": "stream",
     "text": [
      "Enter the cost matrix (enter each row separated by spaces):\n"
     ]
    },
    {
     "name": "stdin",
     "output_type": "stream",
     "text": [
      " 0 10 15 20 \n",
      " 5 0 9 10 \n",
      " 6 13 0 12\n",
      " 8 8 9 0\n"
     ]
    },
    {
     "name": "stdout",
     "output_type": "stream",
     "text": [
      "Minimum Tour Cost of TSp: 35\n"
     ]
    }
   ],
   "source": [
    "from itertools import permutations\n",
    "\n",
    "n = int(input(\"Enter number of cities:\"))\n",
    "\n",
    "print(\"Enter the cost matrix (enter each row separated by spaces):\")\n",
    "graph = []\n",
    "for i in range(n):\n",
    "    row = input().split()\n",
    "    graph.append([int(x) for x in row])\n",
    "\n",
    "start_city = 0\n",
    "\n",
    "def TSP(graph, start_city):\n",
    "    dist = []\n",
    "    for cur_city in range(n):\n",
    "        if cur_city != start_city:\n",
    "            dist.append(cur_city)\n",
    "\n",
    "    min_cost = float('inf')\n",
    "\n",
    "    next_Perm = permutations(dist)\n",
    "\n",
    "    for i in next_Perm:\n",
    "        cur_cost = 0\n",
    "        k = start_city\n",
    "\n",
    "        for j in i:\n",
    "            cur_cost = cur_cost + graph[k][j]\n",
    "            k = j\n",
    "\n",
    "        cur_cost = cur_cost + graph[k][start_city]\n",
    "\n",
    "        min_cost = min(min_cost, cur_cost)\n",
    "\n",
    "    return min_cost\n",
    "\n",
    "min_TourCost = TSP(graph, start_city)\n",
    "\n",
    "print(\"Minimum Tour Cost of TSp:\",min_TourCost)"
   ]
  }
 ],
 "metadata": {
  "kernelspec": {
   "display_name": "Python 3 (ipykernel)",
   "language": "python",
   "name": "python3"
  },
  "language_info": {
   "codemirror_mode": {
    "name": "ipython",
    "version": 3
   },
   "file_extension": ".py",
   "mimetype": "text/x-python",
   "name": "python",
   "nbconvert_exporter": "python",
   "pygments_lexer": "ipython3",
   "version": "3.12.7"
  }
 },
 "nbformat": 4,
 "nbformat_minor": 5
}
